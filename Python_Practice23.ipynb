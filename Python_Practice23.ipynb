{
  "nbformat": 4,
  "nbformat_minor": 0,
  "metadata": {
    "colab": {
      "name": "Python_Practice23.ipynb",
      "provenance": [],
      "collapsed_sections": []
    },
    "kernelspec": {
      "name": "python3",
      "display_name": "Python 3"
    },
    "language_info": {
      "name": "python"
    }
  },
  "cells": [
    {
      "cell_type": "code",
      "metadata": {
        "colab": {
          "base_uri": "https://localhost:8080/"
        },
        "id": "E0uuEdNQWJpx",
        "outputId": "0116ba1c-a95a-4c39-c001-9c7af5e86e53"
      },
      "source": [
        "tup1 = (1,2,3,4,5)\n",
        "li = list(tup1)\n",
        "print(type(li))"
      ],
      "execution_count": null,
      "outputs": [
        {
          "output_type": "stream",
          "text": [
            "<class 'list'>\n"
          ],
          "name": "stdout"
        }
      ]
    },
    {
      "cell_type": "code",
      "metadata": {
        "colab": {
          "base_uri": "https://localhost:8080/"
        },
        "id": "0Q8gC0w4W-vy",
        "outputId": "46eb89df-220c-4774-fdcf-21c1a8d93f8c"
      },
      "source": [
        "tup = (1,2,3,4)\n",
        "li = list(tup)\n",
        "type(li)\n",
        "li.pop(2)\n",
        "tup = (tuple(li))\n",
        "print(tup)"
      ],
      "execution_count": null,
      "outputs": [
        {
          "output_type": "stream",
          "text": [
            "(1, 2, 4)\n"
          ],
          "name": "stdout"
        }
      ]
    },
    {
      "cell_type": "code",
      "metadata": {
        "id": "1-sNKT_SW_Wt",
        "colab": {
          "base_uri": "https://localhost:8080/"
        },
        "outputId": "e7d98f0d-7cd4-4529-9d6a-fc7dc8e3b159"
      },
      "source": [
        "a = 2\n",
        "b = 4\n",
        "print(a+b,a-b,a%b,a/b,a*b,a//b,a**b)"
      ],
      "execution_count": null,
      "outputs": [
        {
          "output_type": "stream",
          "text": [
            "17 -3 7 0.7 70 0 282475249\n"
          ],
          "name": "stdout"
        }
      ]
    },
    {
      "cell_type": "code",
      "metadata": {
        "colab": {
          "base_uri": "https://localhost:8080/"
        },
        "id": "kByM3j8-CqTT",
        "outputId": "fc143611-1a0a-4402-d864-9b46af6700e7"
      },
      "source": [
        "print(a//b)"
      ],
      "execution_count": null,
      "outputs": [
        {
          "output_type": "stream",
          "text": [
            "0\n"
          ],
          "name": "stdout"
        }
      ]
    },
    {
      "cell_type": "code",
      "metadata": {
        "colab": {
          "base_uri": "https://localhost:8080/"
        },
        "id": "s5Pw8CRVDOJx",
        "outputId": "1695744a-d517-4cf0-f248-463f990a9855"
      },
      "source": [
        "a = 2\n",
        "b = 4\n",
        "a**b"
      ],
      "execution_count": null,
      "outputs": [
        {
          "output_type": "execute_result",
          "data": {
            "text/plain": [
              "16"
            ]
          },
          "metadata": {
            "tags": []
          },
          "execution_count": 5
        }
      ]
    },
    {
      "cell_type": "code",
      "metadata": {
        "colab": {
          "base_uri": "https://localhost:8080/"
        },
        "id": "-FjsAU40EvWU",
        "outputId": "d8a73588-c0ef-4855-bad4-85ef25b1bb2f"
      },
      "source": [
        "a*a*a*a"
      ],
      "execution_count": null,
      "outputs": [
        {
          "output_type": "execute_result",
          "data": {
            "text/plain": [
              "16"
            ]
          },
          "metadata": {
            "tags": []
          },
          "execution_count": 6
        }
      ]
    },
    {
      "cell_type": "code",
      "metadata": {
        "colab": {
          "base_uri": "https://localhost:8080/"
        },
        "id": "Z7nzjS4vEzun",
        "outputId": "381010c0-c539-4a0a-f8da-f7bdc1d542bb"
      },
      "source": [
        "y = 2\n",
        "x = 4\n",
        "x%y "
      ],
      "execution_count": null,
      "outputs": [
        {
          "output_type": "execute_result",
          "data": {
            "text/plain": [
              "0"
            ]
          },
          "metadata": {
            "tags": []
          },
          "execution_count": 11
        }
      ]
    },
    {
      "cell_type": "code",
      "metadata": {
        "colab": {
          "base_uri": "https://localhost:8080/"
        },
        "id": "idpKEukOFC09",
        "outputId": "5363e365-a234-46b9-c3d2-e45623dd0c97"
      },
      "source": [
        "c = 36 \n",
        "d = 8\n",
        "c%d"
      ],
      "execution_count": null,
      "outputs": [
        {
          "output_type": "execute_result",
          "data": {
            "text/plain": [
              "4"
            ]
          },
          "metadata": {
            "tags": []
          },
          "execution_count": 13
        }
      ]
    },
    {
      "cell_type": "code",
      "metadata": {
        "colab": {
          "base_uri": "https://localhost:8080/"
        },
        "id": "7WZ3BKUIGbDq",
        "outputId": "9c3b8869-ae14-4180-d1a0-4015f08a506c"
      },
      "source": [
        "x = 10\n",
        "y = 10\n",
        "x > y or y > x\n"
      ],
      "execution_count": null,
      "outputs": [
        {
          "output_type": "execute_result",
          "data": {
            "text/plain": [
              "False"
            ]
          },
          "metadata": {
            "tags": []
          },
          "execution_count": 21
        }
      ]
    },
    {
      "cell_type": "code",
      "metadata": {
        "colab": {
          "base_uri": "https://localhost:8080/"
        },
        "id": "mGEosyCSHyQP",
        "outputId": "a48a45ec-3d59-486b-f32b-93f2cfe752b0"
      },
      "source": [
        "x != y"
      ],
      "execution_count": null,
      "outputs": [
        {
          "output_type": "execute_result",
          "data": {
            "text/plain": [
              "False"
            ]
          },
          "metadata": {
            "tags": []
          },
          "execution_count": 22
        }
      ]
    },
    {
      "cell_type": "code",
      "metadata": {
        "colab": {
          "base_uri": "https://localhost:8080/"
        },
        "id": "IS2rElTgIW2a",
        "outputId": "f4623fba-df6d-4902-efce-189104bd6e89"
      },
      "source": [
        " a= 16\n",
        " b = 16\n",
        " print(a>b)\n",
        " print(a<b)\n",
        " print(a>=b)\n",
        " print(a<=b)\n",
        " print(a==b)\n",
        " print(a!=b)\n",
        " "
      ],
      "execution_count": null,
      "outputs": [
        {
          "output_type": "stream",
          "text": [
            "False\n",
            "False\n",
            "True\n",
            "True\n",
            "True\n",
            "False\n"
          ],
          "name": "stdout"
        }
      ]
    },
    {
      "cell_type": "code",
      "metadata": {
        "colab": {
          "base_uri": "https://localhost:8080/"
        },
        "id": "4L4dtEhkIwB9",
        "outputId": "8daba70c-ef94-487f-e375-ee1fa1da55eb"
      },
      "source": [
        "a>=b, a<=b"
      ],
      "execution_count": null,
      "outputs": [
        {
          "output_type": "execute_result",
          "data": {
            "text/plain": [
              "(True, True)"
            ]
          },
          "metadata": {
            "tags": []
          },
          "execution_count": 30
        }
      ]
    },
    {
      "cell_type": "code",
      "metadata": {
        "colab": {
          "base_uri": "https://localhost:8080/"
        },
        "id": "sjMPw1dQJYkP",
        "outputId": "4e578570-593f-483d-fc8d-c19efd145aef"
      },
      "source": [
        "y = 5\n",
        "y+=3\n",
        "print(y)\n",
        "y-=4\n",
        "print(y)\n",
        "y /=5\n",
        "print(y)"
      ],
      "execution_count": null,
      "outputs": [
        {
          "output_type": "stream",
          "text": [
            "8\n"
          ],
          "name": "stdout"
        }
      ]
    },
    {
      "cell_type": "code",
      "metadata": {
        "colab": {
          "base_uri": "https://localhost:8080/"
        },
        "id": "QEdWdPlBL8ZQ",
        "outputId": "787a2aba-f400-418d-f132-4c87c3733148"
      },
      "source": [
        "x = 3\n",
        "x >>=3\n",
        "print(x)"
      ],
      "execution_count": null,
      "outputs": [
        {
          "output_type": "stream",
          "text": [
            "0\n"
          ],
          "name": "stdout"
        }
      ]
    },
    {
      "cell_type": "code",
      "metadata": {
        "colab": {
          "base_uri": "https://localhost:8080/"
        },
        "id": "hpskGWwJM5c5",
        "outputId": "b1a97108-d01f-4037-e86a-226b42ce381e"
      },
      "source": [
        " print(\"This is liza's bag\")"
      ],
      "execution_count": null,
      "outputs": [
        {
          "output_type": "stream",
          "text": [
            "This is liza's bag\n"
          ],
          "name": "stdout"
        }
      ]
    },
    {
      "cell_type": "code",
      "metadata": {
        "id": "_PoPobLlTxbP"
      },
      "source": [
        "###Data types\n",
        "\n",
        "x = 26 # integer becoz it is a whole number\n",
        "y = 23.55 # float - becoz it has decimal values\n",
        "z = True/False #boolean values\n",
        "a = \"text\" #string - textual values\n",
        "1,2,3,4,5,5,6,7,6,3,4\n",
        "(1,2,3,4,5,6,7) - #set\n",
        "complex - 5 + 3i \n",
        "\n",
        "Sequences, - List[] and Tuple()\n",
        "\n",
        "list is modifiable, tuple is not\n",
        "List can be converted to tuple and viceversa\n",
        "\n"
      ],
      "execution_count": null,
      "outputs": []
    },
    {
      "cell_type": "code",
      "metadata": {
        "colab": {
          "base_uri": "https://localhost:8080/"
        },
        "id": "8-2Ot9GWbCI6",
        "outputId": "1fdfcc39-3bd8-45d8-8c5b-7f4111cf378e"
      },
      "source": [
        "x= 23\n",
        "y=23.5\n",
        "z = 5j\n",
        "print(type(x))\n",
        "print(type(y))\n",
        "print(type(z))"
      ],
      "execution_count": null,
      "outputs": [
        {
          "output_type": "stream",
          "text": [
            "<class 'int'>\n",
            "<class 'float'>\n",
            "<class 'complex'>\n"
          ],
          "name": "stdout"
        }
      ]
    },
    {
      "cell_type": "code",
      "metadata": {
        "colab": {
          "base_uri": "https://localhost:8080/"
        },
        "id": "eIIKj-atbIFT",
        "outputId": "6043ad01-f1b8-496d-869c-89879931250b"
      },
      "source": [
        "#List \n",
        "a= [10,20,30,40]\n",
        "print(type(a))"
      ],
      "execution_count": null,
      "outputs": [
        {
          "output_type": "stream",
          "text": [
            "<class 'list'>\n"
          ],
          "name": "stdout"
        }
      ]
    },
    {
      "cell_type": "code",
      "metadata": {
        "colab": {
          "base_uri": "https://localhost:8080/"
        },
        "id": "KbvI-O95cDw2",
        "outputId": "6f57f7ac-b885-4d0e-9d29-2b7fb1410dc6"
      },
      "source": [
        "a = [10]\n",
        "a"
      ],
      "execution_count": null,
      "outputs": [
        {
          "output_type": "execute_result",
          "data": {
            "text/plain": [
              "[10]"
            ]
          },
          "metadata": {
            "tags": []
          },
          "execution_count": 19
        }
      ]
    },
    {
      "cell_type": "code",
      "metadata": {
        "colab": {
          "base_uri": "https://localhost:8080/",
          "height": 197
        },
        "id": "-v-V3gaccbtT",
        "outputId": "48c18683-7c72-49ee-9d67-3994a5c41e54"
      },
      "source": [
        "#list.append - append can add only 1 value at a time, accepts the duplicates n number of times\n",
        "a.append(20)\n",
        "print(a)"
      ],
      "execution_count": null,
      "outputs": [
        {
          "output_type": "error",
          "ename": "NameError",
          "evalue": "ignored",
          "traceback": [
            "\u001b[0;31m---------------------------------------------------------------------------\u001b[0m",
            "\u001b[0;31mNameError\u001b[0m                                 Traceback (most recent call last)",
            "\u001b[0;32m<ipython-input-4-c9d2cb08d4fc>\u001b[0m in \u001b[0;36m<module>\u001b[0;34m()\u001b[0m\n\u001b[1;32m      1\u001b[0m \u001b[0;31m#list.append - append can add only 1 value at a time, accepts the duplicates n number of times\u001b[0m\u001b[0;34m\u001b[0m\u001b[0;34m\u001b[0m\u001b[0;34m\u001b[0m\u001b[0m\n\u001b[0;32m----> 2\u001b[0;31m \u001b[0ma\u001b[0m\u001b[0;34m.\u001b[0m\u001b[0mappend\u001b[0m\u001b[0;34m(\u001b[0m\u001b[0;36m20\u001b[0m\u001b[0;34m)\u001b[0m\u001b[0;34m\u001b[0m\u001b[0;34m\u001b[0m\u001b[0m\n\u001b[0m\u001b[1;32m      3\u001b[0m \u001b[0mprint\u001b[0m\u001b[0;34m(\u001b[0m\u001b[0ma\u001b[0m\u001b[0;34m)\u001b[0m\u001b[0;34m\u001b[0m\u001b[0;34m\u001b[0m\u001b[0m\n",
            "\u001b[0;31mNameError\u001b[0m: name 'a' is not defined"
          ]
        }
      ]
    },
    {
      "cell_type": "code",
      "metadata": {
        "colab": {
          "base_uri": "https://localhost:8080/"
        },
        "id": "BzZVXvLEcnke",
        "outputId": "1d2b3021-9838-4b25-eef9-95dc0a825294"
      },
      "source": [
        "#format Specifier\n",
        "name = 'Soham'\n",
        "print(\"My name is %s\" %name)"
      ],
      "execution_count": null,
      "outputs": [
        {
          "output_type": "stream",
          "text": [
            "My name is Soham\n"
          ],
          "name": "stdout"
        }
      ]
    },
    {
      "cell_type": "code",
      "metadata": {
        "colab": {
          "base_uri": "https://localhost:8080/"
        },
        "id": "Od9yQtWqoBN0",
        "outputId": "1777f343-a32e-4d89-db68-cfbe4e788089"
      },
      "source": [
        "name = \"John\"\n",
        "age = 23\n",
        "print(\"%s is %d years old.\" % (name, age))"
      ],
      "execution_count": null,
      "outputs": [
        {
          "output_type": "stream",
          "text": [
            "John is 23 years old.\n"
          ],
          "name": "stdout"
        }
      ]
    },
    {
      "cell_type": "code",
      "metadata": {
        "colab": {
          "base_uri": "https://localhost:8080/"
        },
        "id": "JUTq1ULhe1iO",
        "outputId": "709119cf-39c3-4800-c58b-fa279e0e4960"
      },
      "source": [
        "b = [20,30,40]\n",
        "b.insert(3,40)\n",
        "print(b)\n"
      ],
      "execution_count": null,
      "outputs": [
        {
          "output_type": "stream",
          "text": [
            "[20, 30, 40, 40]\n"
          ],
          "name": "stdout"
        }
      ]
    },
    {
      "cell_type": "code",
      "metadata": {
        "colab": {
          "base_uri": "https://localhost:8080/"
        },
        "id": "5-YkxEyvhFOq",
        "outputId": "9a2f522f-4185-4eb2-cd2d-b7377ae46373"
      },
      "source": [
        "b = [20,30,40]\n",
        "b.extend([110])\n",
        "print(b)"
      ],
      "execution_count": null,
      "outputs": [
        {
          "output_type": "stream",
          "text": [
            "[20, 30, 40, 110]\n"
          ],
          "name": "stdout"
        }
      ]
    },
    {
      "cell_type": "code",
      "metadata": {
        "colab": {
          "base_uri": "https://localhost:8080/"
        },
        "id": "wJed7yPqiWHF",
        "outputId": "49c88d4e-5b78-4283-e5a5-0ac8cb51092f"
      },
      "source": [
        "b = [20,30,40]\n",
        "b.remove(20)\n",
        "print(b)"
      ],
      "execution_count": null,
      "outputs": [
        {
          "output_type": "stream",
          "text": [
            "[30, 40]\n"
          ],
          "name": "stdout"
        }
      ]
    },
    {
      "cell_type": "code",
      "metadata": {
        "colab": {
          "base_uri": "https://localhost:8080/"
        },
        "id": "k_1dSgrNkfSI",
        "outputId": "d8a32d41-8698-4e7f-f86b-332647af9523"
      },
      "source": [
        "b = [20,30,40]\n",
        "b.clear()\n",
        "print(b)\n",
        "#clear function clears the entire list and not any specified values"
      ],
      "execution_count": null,
      "outputs": [
        {
          "output_type": "stream",
          "text": [
            "[]\n"
          ],
          "name": "stdout"
        }
      ]
    },
    {
      "cell_type": "code",
      "metadata": {
        "colab": {
          "base_uri": "https://localhost:8080/",
          "height": 218
        },
        "id": "B1imQ6QAk_jd",
        "outputId": "07822b4b-855a-42b3-b2a9-2f6b1123ee77"
      },
      "source": [
        "b = [20,30,40]\n",
        "del b\n",
        "print(b)\n",
        "#del can delete entire list and not print anything, also it can delete specific value"
      ],
      "execution_count": null,
      "outputs": [
        {
          "output_type": "error",
          "ename": "NameError",
          "evalue": "ignored",
          "traceback": [
            "\u001b[0;31m---------------------------------------------------------------------------\u001b[0m",
            "\u001b[0;31mNameError\u001b[0m                                 Traceback (most recent call last)",
            "\u001b[0;32m<ipython-input-86-73dd1e94032d>\u001b[0m in \u001b[0;36m<module>\u001b[0;34m()\u001b[0m\n\u001b[1;32m      1\u001b[0m \u001b[0mb\u001b[0m \u001b[0;34m=\u001b[0m \u001b[0;34m[\u001b[0m\u001b[0;36m20\u001b[0m\u001b[0;34m,\u001b[0m\u001b[0;36m30\u001b[0m\u001b[0;34m,\u001b[0m\u001b[0;36m40\u001b[0m\u001b[0;34m]\u001b[0m\u001b[0;34m\u001b[0m\u001b[0;34m\u001b[0m\u001b[0m\n\u001b[1;32m      2\u001b[0m \u001b[0;32mdel\u001b[0m \u001b[0mb\u001b[0m\u001b[0;34m\u001b[0m\u001b[0;34m\u001b[0m\u001b[0m\n\u001b[0;32m----> 3\u001b[0;31m \u001b[0mprint\u001b[0m\u001b[0;34m(\u001b[0m\u001b[0mb\u001b[0m\u001b[0;34m)\u001b[0m\u001b[0;34m\u001b[0m\u001b[0;34m\u001b[0m\u001b[0m\n\u001b[0m\u001b[1;32m      4\u001b[0m \u001b[0;31m#del can delete entire list and not print anything, also it can delete specific value\u001b[0m\u001b[0;34m\u001b[0m\u001b[0;34m\u001b[0m\u001b[0;34m\u001b[0m\u001b[0m\n",
            "\u001b[0;31mNameError\u001b[0m: name 'b' is not defined"
          ]
        }
      ]
    },
    {
      "cell_type": "code",
      "metadata": {
        "colab": {
          "base_uri": "https://localhost:8080/"
        },
        "id": "9MWEcbPeofyO",
        "outputId": "9cc50578-b1e8-4d69-ba8a-fb230ac79cd0"
      },
      "source": [
        "b = [20,30,40]\n",
        "b.pop()\n",
        "print(b)\n",
        "#pop deletes last item if no value is provided, and it deletes the index value in the list"
      ],
      "execution_count": null,
      "outputs": [
        {
          "output_type": "stream",
          "text": [
            "[20, 30]\n"
          ],
          "name": "stdout"
        }
      ]
    },
    {
      "cell_type": "code",
      "metadata": {
        "colab": {
          "base_uri": "https://localhost:8080/"
        },
        "id": "x5ydwAgGpOPa",
        "outputId": "3fb22801-c145-4b63-da41-297c7b7e9ba2"
      },
      "source": [
        "#indexing and slicing\n",
        "l1 = [1,2,3,4,5,6,7,8,9]\n",
        "print(l1[2])"
      ],
      "execution_count": null,
      "outputs": [
        {
          "output_type": "stream",
          "text": [
            "3\n"
          ],
          "name": "stdout"
        }
      ]
    },
    {
      "cell_type": "code",
      "metadata": {
        "colab": {
          "base_uri": "https://localhost:8080/"
        },
        "id": "vmAMnvdTPC1l",
        "outputId": "070fb78f-0b5b-4fe8-c860-35d84f800f29"
      },
      "source": [
        "l1 = [1,2,3,4,5,6,7,8,9]\n",
        "print(l1[-1:-6:2])\n",
        "#negative index starts with -1, \n",
        "#(initialindex, end index(will exclude), jump index)\n",
        "##Pull 1 and 5 from the list above using negative indexing."
      ],
      "execution_count": null,
      "outputs": [
        {
          "output_type": "stream",
          "text": [
            "[]\n"
          ],
          "name": "stdout"
        }
      ]
    },
    {
      "cell_type": "code",
      "metadata": {
        "colab": {
          "base_uri": "https://localhost:8080/"
        },
        "id": "52wxsGGDPRyu",
        "outputId": "24933a6b-bb1d-4dbd-fe51-5dc6d8347de4"
      },
      "source": [
        "l1 = [1,2,3,4,5,6,7,8,9]\n",
        "print(l1[-9:6:4]) \n",
        "##-9 = starting point, -4 = end point is always excluded, 4 = jumping index\n",
        "#initial = 0,-9\n",
        "#final = 8,-4\n",
        "#increment/jump index =4\n",
        "#index counts from left to right\n",
        "#--------->>>>>"
      ],
      "execution_count": null,
      "outputs": [
        {
          "output_type": "stream",
          "text": [
            "[1, 5]\n"
          ],
          "name": "stdout"
        }
      ]
    },
    {
      "cell_type": "code",
      "metadata": {
        "colab": {
          "base_uri": "https://localhost:8080/"
        },
        "id": "kAJEddlGSA8F",
        "outputId": "07f88df8-7204-4b08-a394-8c43807cb9dd"
      },
      "source": [
        "#print 3 and 8 using negative index\n",
        "l1 = [1,2,3,4,5,6,7,8,9]\n",
        "print(l1[-7:-3:2])"
      ],
      "execution_count": null,
      "outputs": [
        {
          "output_type": "stream",
          "text": [
            "[3, 5]\n"
          ],
          "name": "stdout"
        }
      ]
    },
    {
      "cell_type": "code",
      "metadata": {
        "colab": {
          "base_uri": "https://localhost:8080/"
        },
        "id": "2QcwIPgeVSFi",
        "outputId": "f30f81c3-7a31-4990-fc36-b1287b512e86"
      },
      "source": [
        "##tuple - we can only index and slice a tuple, no other functions are validated\n",
        "l1 = (1,2,3,4)\n",
        "print(type(l1))"
      ],
      "execution_count": null,
      "outputs": [
        {
          "output_type": "stream",
          "text": [
            "<class 'tuple'>\n"
          ],
          "name": "stdout"
        }
      ]
    },
    {
      "cell_type": "code",
      "metadata": {
        "colab": {
          "base_uri": "https://localhost:8080/"
        },
        "id": "V01XzUxMXXar",
        "outputId": "a7540d4d-728a-4aea-db17-865f599988ad"
      },
      "source": [
        "# appending tuples\n",
        "l2 = list(l1)\n",
        "print(type(l2))"
      ],
      "execution_count": null,
      "outputs": [
        {
          "output_type": "stream",
          "text": [
            "<class 'list'>\n"
          ],
          "name": "stdout"
        }
      ]
    },
    {
      "cell_type": "code",
      "metadata": {
        "colab": {
          "base_uri": "https://localhost:8080/"
        },
        "id": "m0FbskEwXyrF",
        "outputId": "98d3d25f-69e6-4482-dec5-0c3025d61ecb"
      },
      "source": [
        "l2.append(3)\n",
        "l2"
      ],
      "execution_count": null,
      "outputs": [
        {
          "output_type": "execute_result",
          "data": {
            "text/plain": [
              "[1, 2, 3, 4, 3, 3, 3]"
            ]
          },
          "metadata": {
            "tags": []
          },
          "execution_count": 60
        }
      ]
    },
    {
      "cell_type": "code",
      "metadata": {
        "colab": {
          "base_uri": "https://localhost:8080/"
        },
        "id": "hhyBtWqBX2VP",
        "outputId": "ae439f8e-2595-4c1e-e1b8-b7d7619432d0"
      },
      "source": [
        "l2 = tuple(l2)\n",
        "print(type(l2))"
      ],
      "execution_count": null,
      "outputs": [
        {
          "output_type": "stream",
          "text": [
            "<class 'tuple'>\n"
          ],
          "name": "stdout"
        }
      ]
    },
    {
      "cell_type": "code",
      "metadata": {
        "colab": {
          "base_uri": "https://localhost:8080/"
        },
        "id": "NzKV1HEEYKTH",
        "outputId": "78edead4-08e8-4b56-8962-76b50724c46a"
      },
      "source": [
        "l2\n",
        "#type casting - convert one data type to another "
      ],
      "execution_count": null,
      "outputs": [
        {
          "output_type": "execute_result",
          "data": {
            "text/plain": [
              "(1, 2, 3, 4, 3, 3, 3)"
            ]
          },
          "metadata": {
            "tags": []
          },
          "execution_count": 63
        }
      ]
    },
    {
      "cell_type": "code",
      "metadata": {
        "colab": {
          "base_uri": "https://localhost:8080/"
        },
        "id": "-HrM_1bGYOdo",
        "outputId": "863de186-2cc6-4d4f-f5ba-08d028fcd1fc"
      },
      "source": [
        "l1 = (1,2,3,4)\n",
        "print(type(l1))\n",
        "l2 = list(l1)\n",
        "l2.append(4)\n",
        "print(l2)\n",
        "print(type(l2))\n",
        "l1 = tuple(l2)\n",
        "print(l1)\n",
        "print(type(l1))"
      ],
      "execution_count": null,
      "outputs": [
        {
          "output_type": "stream",
          "text": [
            "<class 'tuple'>\n",
            "[1, 2, 3, 4, 4]\n",
            "<class 'list'>\n",
            "(1, 2, 3, 4, 4)\n",
            "<class 'tuple'>\n"
          ],
          "name": "stdout"
        }
      ]
    },
    {
      "cell_type": "code",
      "metadata": {
        "id": "QSoHCGvhZd_S"
      },
      "source": [
        "###A Set is an unordered collection of data type that is iterable.\n",
        "#It is mutable and has no duplicate elements .\n",
        "#The order of elements in a set is undefined.\n",
        "#Items of a set are separated by commas and are enclosed within curly brackets { }.\n",
        "#Unlike other collections in Python, there is no index attached to the elements of the set, i.e., we cannot directly\n",
        "#access any element of the set by the index."
      ],
      "execution_count": null,
      "outputs": []
    },
    {
      "cell_type": "code",
      "metadata": {
        "colab": {
          "base_uri": "https://localhost:8080/"
        },
        "id": "xqrXoL9TZ2aG",
        "outputId": "5082246c-3427-47d9-ea94-38284f6df195"
      },
      "source": [
        "Set1 = {1,2,3,4,5,6,7,0,20,399,23,26,3999}\n",
        "print(Set1)"
      ],
      "execution_count": null,
      "outputs": [
        {
          "output_type": "stream",
          "text": [
            "{0, 1, 2, 3, 4, 5, 6, 7, 399, 20, 23, 26, 3999}\n"
          ],
          "name": "stdout"
        }
      ]
    },
    {
      "cell_type": "code",
      "metadata": {
        "colab": {
          "base_uri": "https://localhost:8080/"
        },
        "id": "bEuhelgrasMN",
        "outputId": "bba39dfd-c4fd-4865-bcae-3490f6017be5"
      },
      "source": [
        "s1 = {1,12,31,40,500,2,89,8,9,0,'soham',24.55}\n",
        "s1.add(2000)\n",
        "s1"
      ],
      "execution_count": null,
      "outputs": [
        {
          "output_type": "execute_result",
          "data": {
            "text/plain": [
              "{0, 1, 12, 2, 2000, 24.55, 31, 40, 500, 8, 89, 9, 'soham'}"
            ]
          },
          "metadata": {
            "tags": []
          },
          "execution_count": 83
        }
      ]
    },
    {
      "cell_type": "code",
      "metadata": {
        "colab": {
          "base_uri": "https://localhost:8080/"
        },
        "id": "B7OiuKlob9lm",
        "outputId": "04acb64a-7cb9-4e54-ba03-cf79511b02b1"
      },
      "source": [
        "thisset = {\"apple\", \"banana\", \"cherry\"}\n",
        "tropical = {\"pineapple\", \"mango\", \"papaya\"}\n",
        "\n",
        "thisset.update(tropical)\n",
        "\n",
        "print(thisset)"
      ],
      "execution_count": null,
      "outputs": [
        {
          "output_type": "stream",
          "text": [
            "{'papaya', 'pineapple', 'apple', 'banana', 'cherry', 'mango'}\n"
          ],
          "name": "stdout"
        }
      ]
    },
    {
      "cell_type": "code",
      "metadata": {
        "colab": {
          "base_uri": "https://localhost:8080/"
        },
        "id": "FEm7Ee7Zd-th",
        "outputId": "c08d95e5-7814-4a4f-be02-b73518fabcb4"
      },
      "source": [
        "## update any iterable object\n",
        "\n",
        "thisset = {\"apple\", \"banana\", \"cherry\"}\n",
        "mylist = [\"kiwi\", \"orange\",\"banana\"]\n",
        "\n",
        "thisset.update(mylist)\n",
        "\n",
        "print(thisset)"
      ],
      "execution_count": null,
      "outputs": [
        {
          "output_type": "stream",
          "text": [
            "{'kiwi', 'banana', 'apple', 'cherry', 'orange'}\n"
          ],
          "name": "stdout"
        }
      ]
    },
    {
      "cell_type": "code",
      "metadata": {
        "colab": {
          "base_uri": "https://localhost:8080/"
        },
        "id": "0DN-3ON1eQS0",
        "outputId": "84e41936-6896-4699-c7c9-95733e551348"
      },
      "source": [
        "## remove() and discard() can be used to remove the item in the set\n",
        "##  If the item to remove does not exist, discard() will NOT raise an error.\n",
        "## If the item to remove does not exist, remove() will raise an error.\n",
        "## Sets are unordered, so when using the pop() method, you do not know which item that gets removed.\n",
        "\n",
        "thisset = {\"apple\",\"banana\",\"kiwi\", \"orange\", \"cherry\"}\n",
        "thisset.discard(\"banana\")\n",
        "print(thisset)\n"
      ],
      "execution_count": null,
      "outputs": [
        {
          "output_type": "stream",
          "text": [
            "{'apple', 'cherry'}\n"
          ],
          "name": "stdout"
        }
      ]
    },
    {
      "cell_type": "code",
      "metadata": {
        "colab": {
          "base_uri": "https://localhost:8080/"
        },
        "id": "Hl-WWbhNeqLS",
        "outputId": "010dd4a5-c765-4266-f5c0-73e01693ce00"
      },
      "source": [
        "set1 = {\"apple\",\"banana\",\"kiwi\", \"orange\", \"cherry\"}\n",
        "set1.pop()\n",
        "print(set1)"
      ],
      "execution_count": null,
      "outputs": [
        {
          "output_type": "stream",
          "text": [
            "{'banana', 'apple', 'cherry', 'orange'}\n"
          ],
          "name": "stdout"
        }
      ]
    },
    {
      "cell_type": "code",
      "metadata": {
        "colab": {
          "base_uri": "https://localhost:8080/"
        },
        "id": "kdLSvR0zgBOv",
        "outputId": "83773dd4-4742-4bce-f362-2a7aa9b48cea"
      },
      "source": [
        "set1 = {\"apple\",\"banana\",\"kiwi\", \"orange\", \"cherry\"}\n",
        "set1.pop()\n",
        "print(set1)\n",
        "set1"
      ],
      "execution_count": null,
      "outputs": [
        {
          "output_type": "stream",
          "text": [
            "{'banana', 'apple', 'cherry', 'orange'}\n"
          ],
          "name": "stdout"
        },
        {
          "output_type": "execute_result",
          "data": {
            "text/plain": [
              "{'apple', 'banana', 'cherry', 'orange'}"
            ]
          },
          "metadata": {
            "tags": []
          },
          "execution_count": 99
        }
      ]
    },
    {
      "cell_type": "code",
      "metadata": {
        "colab": {
          "base_uri": "https://localhost:8080/"
        },
        "id": "DnxGXpEggPn3",
        "outputId": "a85eacf6-eac1-4db4-b6be-dbbbae460ba2"
      },
      "source": [
        "set1 = {\"apple\",\"banana\",\"kiwi\", \"orange\", \"cherry\"}\n",
        "set1.pop()\n",
        "print(set1)\n",
        "set1"
      ],
      "execution_count": null,
      "outputs": [
        {
          "output_type": "stream",
          "text": [
            "{'banana', 'apple', 'cherry', 'orange'}\n"
          ],
          "name": "stdout"
        },
        {
          "output_type": "execute_result",
          "data": {
            "text/plain": [
              "{'apple', 'banana', 'cherry', 'orange'}"
            ]
          },
          "metadata": {
            "tags": []
          },
          "execution_count": 100
        }
      ]
    },
    {
      "cell_type": "code",
      "metadata": {
        "colab": {
          "base_uri": "https://localhost:8080/"
        },
        "id": "PgaE8Ys0hKjX",
        "outputId": "bf3bee09-7984-4c7a-b41a-20c881641819"
      },
      "source": [
        "#The union() method returns a new set with all items from both sets:\n",
        "\n",
        "set1 = {\"a\", \"b\" , \"c\",2,3}\n",
        "set2 = {1, 2, 3,4}\n",
        "\n",
        "#set3 = set1.union(set2)\n",
        "#print(set3)\n",
        "##The intersection() method will return a new set, that only contains the items that are present in both sets.\n",
        "set4 = set1.intersection(set2)\n",
        "print(set4)\n",
        "##The intersection_update() method will keep only the items that are present in both sets.\n",
        "set1.intersection_update(set2)\n",
        "print(set1)\n",
        "print(set2)\n",
        "##This method returns None (meaning it does not have a return value). It only updates the initial set calling the intersection_update() method."
      ],
      "execution_count": null,
      "outputs": [
        {
          "output_type": "stream",
          "text": [
            "{2, 3}\n",
            "{2, 3}\n",
            "{1, 2, 3, 4}\n"
          ],
          "name": "stdout"
        }
      ]
    },
    {
      "cell_type": "code",
      "metadata": {
        "colab": {
          "base_uri": "https://localhost:8080/"
        },
        "id": "el4dYfqZiD3B",
        "outputId": "89adc982-3641-4b9d-8b9c-d5aff555e43c"
      },
      "source": [
        "#The symmetric_difference() method will return a new set, that contains only the elements that are NOT present in both sets.\n",
        "x = {\"apple\", \"banana\", \"cherry\"}\n",
        "y = {\"google\", \"microsoft\", \"apple\"}\n",
        "\n",
        "z = x.difference(y)\n",
        "\n",
        "print(z)\n",
        "\n",
        "x = {\"apple\", \"banana\", \"cherry\"}\n",
        "y = {\"google\", \"microsoft\", \"apple\"}\n",
        "\n",
        "z = x.symmetric_difference(y)\n",
        "\n",
        "print(z)"
      ],
      "execution_count": null,
      "outputs": [
        {
          "output_type": "stream",
          "text": [
            "{'banana', 'cherry'}\n",
            "{'cherry', 'google', 'banana', 'microsoft'}\n"
          ],
          "name": "stdout"
        }
      ]
    },
    {
      "cell_type": "code",
      "metadata": {
        "colab": {
          "base_uri": "https://localhost:8080/"
        },
        "id": "TmEdxIaYtWqF",
        "outputId": "5ee3dce2-2fea-4a89-d166-bcb3b78f8f2a"
      },
      "source": [
        "l1 = [0,1,2,3,4,5,6,7,8,9]\n",
        "print(l1[2:8:2]) \n",
        "\n",
        "print(l1[7])\n",
        " #2,7 print "
      ],
      "execution_count": null,
      "outputs": [
        {
          "output_type": "stream",
          "text": [
            "[2, 4, 6]\n",
            "7\n"
          ],
          "name": "stdout"
        }
      ]
    },
    {
      "cell_type": "code",
      "metadata": {
        "colab": {
          "base_uri": "https://localhost:8080/"
        },
        "id": "9HSQX3pDtXMN",
        "outputId": "0b2dee4d-3a9c-4c2e-8cdd-5f69f7c39191"
      },
      "source": [
        "L1 = [1,2,3,4,5,6,7,8,11,21,8,10,9,4]\n",
        "#print 1, 5 and 11 using negative index\n",
        "print(L1[-11::4])\n",
        "\n",
        "## First index is = -11                                                     ### Output [1]\n",
        "## Here Jump index value is 4 , so now index -11+4 = -7                     ### Output [1,5]\n",
        "## Next jum index is 4, currently index value = -7, Now index -7+4 = -3     ### Output [1,5,11]"
      ],
      "execution_count": null,
      "outputs": [
        {
          "output_type": "stream",
          "text": [
            "[4, 8, 10]\n"
          ],
          "name": "stdout"
        }
      ]
    },
    {
      "cell_type": "code",
      "metadata": {
        "colab": {
          "base_uri": "https://localhost:8080/"
        },
        "id": "UoACxsoI0QHe",
        "outputId": "dd383161-49e6-4b60-8445-ab8cb0aa8653"
      },
      "source": [
        "L1 = ['P','U','N','E','E','T']\n",
        "## PRINT P AND T IN THE ABOVE LIST USING POSITIVE INDEX AND NEGATIVE INDEX\n",
        "# POSITIVE INDEX\n",
        "print(L1[0:5:4])\n",
        "#NEGATIVE INDEX\n",
        "print(L1[-6:-1:4])\n",
        "print(L1[::5])\n",
        "#List [Start Index : End INDEX : Jump Index ]\n",
        "\n",
        "#KETAN bHAI\n",
        "print(L1[0::5])\n",
        "print(L1[-6::5])"
      ],
      "execution_count": null,
      "outputs": [
        {
          "output_type": "stream",
          "text": [
            "['P', 'E']\n",
            "['P', 'E']\n",
            "['P', 'T']\n",
            "['P', 'T']\n",
            "['P', 'T']\n"
          ],
          "name": "stdout"
        }
      ]
    },
    {
      "cell_type": "code",
      "metadata": {
        "colab": {
          "base_uri": "https://localhost:8080/"
        },
        "id": "B5M-ynn4459q",
        "outputId": "27219661-da32-4ab5-fd24-156fa6e97280"
      },
      "source": [
        "L1 = ['P','U','N','E','E','T']\n",
        "print(L1[-1:-6:-3])"
      ],
      "execution_count": null,
      "outputs": [
        {
          "output_type": "stream",
          "text": [
            "['T', 'N']\n"
          ],
          "name": "stdout"
        }
      ]
    },
    {
      "cell_type": "code",
      "metadata": {
        "colab": {
          "base_uri": "https://localhost:8080/"
        },
        "id": "ltt4g9Pf6BPt",
        "outputId": "75d8e5e3-6d02-40ee-a416-2ea8dd00b292"
      },
      "source": [
        "Dict = {1:'Puneet', 2:'Phavan', 3:'Mehul'}\n",
        "# 1- puneet\n",
        " #2- phavan\n",
        " #3- mehul\n",
        "print(type(Dict))\n",
        "Dict[4] = 'Soham','Pallav'\n",
        "Dict[1] = 'replace the value in key 1'\n",
        "print(Dict)\n",
        "Dict.pop(4) #removes the key in the dict\n",
        "print(Dict)\n",
        "Dict.popitem() ##popitem deletes the last item from the dict\n",
        "print(Dict)\n",
        "del Dict[\"Mehul\"] ##deletes the value in the dictionary\n",
        "print(Dict)"
      ],
      "execution_count": null,
      "outputs": [
        {
          "output_type": "stream",
          "text": [
            "<class 'dict'>\n",
            "{1: 'replace the value in key 1', 2: 'Phavan', 3: 'Mehul', 4: ('Soham', 'Pallav')}\n",
            "{1: 'replace the value in key 1', 2: 'Phavan', 3: 'Mehul'}\n"
          ],
          "name": "stdout"
        }
      ]
    },
    {
      "cell_type": "code",
      "metadata": {
        "colab": {
          "base_uri": "https://localhost:8080/"
        },
        "id": "eSLAgOPn88bR",
        "outputId": "0246d523-37c6-4edb-cc89-b27babc11a87"
      },
      "source": [
        "Dict = {1:'Puneet', 2:'Phavan', 3:'Mehul'}\n",
        "print(Dict)\n",
        "#del Dict[1] \n",
        "##deletes the value in the dictionary\n",
        "#print(Dict)\n",
        "Dict[4] = 'Soham'\n",
        "print(Dict)\n",
        "Dict[5] = 'red'\n",
        "print(Dict[5:'red'])\n",
        "Dict.update({\"color\": \"red\"})"
      ],
      "execution_count": null,
      "outputs": [
        {
          "output_type": "stream",
          "text": [
            "{1: 'Puneet', 2: 'Phavan', 3: 'Mehul'}\n",
            "{1: 'Puneet', 2: 'Phavan', 3: 'Mehul', 4: 'Soham'}\n",
            "{1: 'Puneet', 2: 'Phavan', 3: 'Mehul', 4: 'Soham', 5: 'red'}\n"
          ],
          "name": "stdout"
        }
      ]
    },
    {
      "cell_type": "code",
      "metadata": {
        "colab": {
          "base_uri": "https://localhost:8080/"
        },
        "id": "-KgEcAIa-g37",
        "outputId": "863a8cef-9c40-436f-821b-f02eb1bbd826"
      },
      "source": [
        "thisdict = {\n",
        "  \"brand\": \"Ford\",\n",
        "  \"model\": \"Mustang\",\n",
        "  \"year\": 1964\n",
        "}\n",
        "del thisdict[\"model\"]\n",
        "print(thisdict) "
      ],
      "execution_count": null,
      "outputs": [
        {
          "output_type": "stream",
          "text": [
            "{'brand': 'Ford', 'year': 1964}\n"
          ],
          "name": "stdout"
        }
      ]
    },
    {
      "cell_type": "code",
      "metadata": {
        "colab": {
          "base_uri": "https://localhost:8080/",
          "height": 235
        },
        "id": "9OSfwcV1_T_G",
        "outputId": "289497cf-0ebe-4c19-8fc4-1cd4b167b70b"
      },
      "source": [
        "Dict = {1:'Puneet', 2:'Phavan', 3:'Mehul'}\n",
        "print(Dict)\n",
        "del Dict[\"Mehul\"]\n",
        "print(Dict)"
      ],
      "execution_count": null,
      "outputs": [
        {
          "output_type": "stream",
          "text": [
            "{1: 'Puneet', 2: 'Phavan', 3: 'Mehul'}\n"
          ],
          "name": "stdout"
        },
        {
          "output_type": "error",
          "ename": "KeyError",
          "evalue": "ignored",
          "traceback": [
            "\u001b[0;31m---------------------------------------------------------------------------\u001b[0m",
            "\u001b[0;31mKeyError\u001b[0m                                  Traceback (most recent call last)",
            "\u001b[0;32m<ipython-input-68-4237e2b83cc6>\u001b[0m in \u001b[0;36m<module>\u001b[0;34m()\u001b[0m\n\u001b[1;32m      1\u001b[0m \u001b[0mDict\u001b[0m \u001b[0;34m=\u001b[0m \u001b[0;34m{\u001b[0m\u001b[0;36m1\u001b[0m\u001b[0;34m:\u001b[0m\u001b[0;34m'Puneet'\u001b[0m\u001b[0;34m,\u001b[0m \u001b[0;36m2\u001b[0m\u001b[0;34m:\u001b[0m\u001b[0;34m'Phavan'\u001b[0m\u001b[0;34m,\u001b[0m \u001b[0;36m3\u001b[0m\u001b[0;34m:\u001b[0m\u001b[0;34m'Mehul'\u001b[0m\u001b[0;34m}\u001b[0m\u001b[0;34m\u001b[0m\u001b[0;34m\u001b[0m\u001b[0m\n\u001b[1;32m      2\u001b[0m \u001b[0mprint\u001b[0m\u001b[0;34m(\u001b[0m\u001b[0mDict\u001b[0m\u001b[0;34m)\u001b[0m\u001b[0;34m\u001b[0m\u001b[0;34m\u001b[0m\u001b[0m\n\u001b[0;32m----> 3\u001b[0;31m \u001b[0;32mdel\u001b[0m \u001b[0mDict\u001b[0m\u001b[0;34m[\u001b[0m\u001b[0;34m\"Mehul\"\u001b[0m\u001b[0;34m]\u001b[0m\u001b[0;34m\u001b[0m\u001b[0;34m\u001b[0m\u001b[0m\n\u001b[0m\u001b[1;32m      4\u001b[0m \u001b[0mprint\u001b[0m\u001b[0;34m(\u001b[0m\u001b[0mDict\u001b[0m\u001b[0;34m)\u001b[0m\u001b[0;34m\u001b[0m\u001b[0;34m\u001b[0m\u001b[0m\n",
            "\u001b[0;31mKeyError\u001b[0m: 'Mehul'"
          ]
        }
      ]
    },
    {
      "cell_type": "code",
      "metadata": {
        "colab": {
          "base_uri": "https://localhost:8080/"
        },
        "id": "Ukj7C_tvB9_1",
        "outputId": "968c81f2-f7ed-460d-a090-d6c688d0734b"
      },
      "source": [
        "Dict = {1:'Puneet', 2:'Phavan', 3:'Mehul'}\n",
        "print(Dict[1])"
      ],
      "execution_count": null,
      "outputs": [
        {
          "output_type": "stream",
          "text": [
            "Puneet\n"
          ],
          "name": "stdout"
        }
      ]
    },
    {
      "cell_type": "code",
      "metadata": {
        "colab": {
          "base_uri": "https://localhost:8080/"
        },
        "id": "Ro2lrKPdC-Gu",
        "outputId": "5c0ac012-afd6-49f8-b21c-665010a49cc4"
      },
      "source": [
        "DICC={'Key1': 'Value1', 'Key2': 'Value2'}\n",
        "print(DICC['Key1'])"
      ],
      "execution_count": null,
      "outputs": [
        {
          "output_type": "stream",
          "text": [
            "Value1\n"
          ],
          "name": "stdout"
        }
      ]
    },
    {
      "cell_type": "code",
      "metadata": {
        "colab": {
          "base_uri": "https://localhost:8080/"
        },
        "id": "1-rWUnAIDqgP",
        "outputId": "53ac4629-e0bf-4ce2-94c4-2d2da8a65450"
      },
      "source": [
        "##Conditional Statements\n",
        "##if condition\n",
        "a = int(input('Enter a:'))\n",
        "b = int(input('Enter b:'))\n",
        "c = int(input(\"Enter c:\"))\n",
        "#print(a == b)\n",
        "#print(a>b and a>c)\n",
        "if b>a and a>c:\n",
        "    print('a is greater than b and c is lesser than b')\n",
        "elif a==b:\n",
        "    print('b is equal to a')\n",
        "else:\n",
        "    print('b is greater','c is lesser than a')"
      ],
      "execution_count": null,
      "outputs": [
        {
          "output_type": "stream",
          "text": [
            "Enter a:2\n",
            "Enter b:3\n",
            "Enter c:4\n",
            "b is greater c is lesser than a\n"
          ],
          "name": "stdout"
        }
      ]
    },
    {
      "cell_type": "code",
      "metadata": {
        "colab": {
          "base_uri": "https://localhost:8080/"
        },
        "id": "NLb_WZgFsDCL",
        "outputId": "a5fa5cd6-1e76-4acd-8dd6-e4b0da100015"
      },
      "source": [
        "a = int(input('Enter a:'))\n",
        "b = int(input('Enter b:'))\n",
        "option = 0\n",
        "option = int(input(\"\\n1.Addition\\n2.Substraction\\n3.Multiplication\\n4.PowerOf\\n5.Rounded Division\\n6.Floated Division\\n7.Remainder\\nEnter your Operation:\"))\n",
        "if option ==1:\n",
        "    print(\"Sum of \",a,\" and \",b,\" :\", a + b)\n",
        "elif option ==2:\n",
        "    print(\"Difference of \",a,\" and \",b,\" :\", a - b)\n",
        "elif option ==3:\n",
        "    print(\"Product of \",a,\" and \",b,\" :\", a * b)\n",
        "elif option == 4:\n",
        "    print(a,\" raised to Power of \",b,\" :\", a ** b)\n",
        "elif option == 5:\n",
        "    print(\"Rounded Division of \",a,\" and \",b,\" :\", a // b)\n",
        "elif option == 6:\n",
        "    print(\"Floated Division of \", a, \" and \", b, \" :\", a / b)\n",
        "elif option == 7:\n",
        "    print(\"Remainder of Division:\", a / b)\n",
        "else:\n",
        "    print(\"Invalid Option\")"
      ],
      "execution_count": null,
      "outputs": [
        {
          "output_type": "stream",
          "text": [
            "Enter a:3\n",
            "Enter b:4\n",
            "\n",
            "1.Addition\n",
            "2.Substraction\n",
            "3.Multiplication\n",
            "4.PowerOf\n",
            "5.Rounded Division\n",
            "6.Floated Division\n",
            "7.Remainder\n",
            "Enter your Operation:8\n",
            "Invalid Option\n"
          ],
          "name": "stdout"
        }
      ]
    },
    {
      "cell_type": "code",
      "metadata": {
        "id": "Wr9NIuMbvXqA"
      },
      "source": [
        ""
      ],
      "execution_count": null,
      "outputs": []
    },
    {
      "cell_type": "code",
      "metadata": {
        "colab": {
          "base_uri": "https://localhost:8080/"
        },
        "id": "ybNVQHjLEhWD",
        "outputId": "c6221ab6-d9e2-48b3-8405-310cd422b838"
      },
      "source": [
        "num = float(input('Enter a number:'))\n",
        "if num >= 0:\n",
        "    if num == 0:\n",
        "        print ('Inputed Number is Zero.')\n",
        "    else:\n",
        "        print ('Inputed Number is Positive Number.')\n",
        "else:\n",
        "    print ('Inputed Number is Negative Number.')"
      ],
      "execution_count": null,
      "outputs": [
        {
          "output_type": "stream",
          "text": [
            "Enter a number:1\n",
            "Inputed Number is Positive Number.\n"
          ],
          "name": "stdout"
        }
      ]
    },
    {
      "cell_type": "code",
      "metadata": {
        "colab": {
          "base_uri": "https://localhost:8080/"
        },
        "id": "xZw496mQvZwO",
        "outputId": "6e5bfa96-257a-4cbc-fb96-f394e497debc"
      },
      "source": [
        "a = int(input('Enter the number:'))\n",
        "i = 1\n",
        "while(i<10):\n",
        "    print(a, ' * ', i, ' = ',a * i)\n",
        "    i = i + 1"
      ],
      "execution_count": null,
      "outputs": [
        {
          "output_type": "stream",
          "text": [
            "Enter the number:12\n",
            "12  *  1  =  12\n",
            "12  *  2  =  24\n",
            "12  *  3  =  36\n",
            "12  *  4  =  48\n",
            "12  *  5  =  60\n",
            "12  *  6  =  72\n",
            "12  *  7  =  84\n",
            "12  *  8  =  96\n",
            "12  *  9  =  108\n"
          ],
          "name": "stdout"
        }
      ]
    },
    {
      "cell_type": "code",
      "metadata": {
        "colab": {
          "base_uri": "https://localhost:8080/"
        },
        "id": "xLE9YQdnwcbm",
        "outputId": "f3bcf9cb-876b-4fb1-e4f1-1046fc93040b"
      },
      "source": [
        "number=int(input(\"Enter any number :\"))\n",
        "#store a copy of this number\n",
        "temp=number\n",
        "#calculate reverse of this number\n",
        "reverse_num=0\n",
        "while(number>0):\n",
        "    #extract last digit of this number\n",
        "    digit=number%10\n",
        "    #append this digit in reveresed number\n",
        "    reverse_num=reverse_num*10+digit\n",
        "    #floor divide the number leave out the last digit from number\n",
        "    number=number//10\n",
        "#compare reverse to original number\n",
        "if(temp==reverse_num):\n",
        "    print(\"The number is palindrome!\")\n",
        "else:\n",
        "    print(\"Not a palindrome!\")"
      ],
      "execution_count": null,
      "outputs": [
        {
          "output_type": "stream",
          "text": [
            "Enter any number :22\n",
            "The number is palindrome!\n"
          ],
          "name": "stdout"
        }
      ]
    },
    {
      "cell_type": "code",
      "metadata": {
        "colab": {
          "base_uri": "https://localhost:8080/"
        },
        "id": "RKLpXXcvxBXF",
        "outputId": "50d31a98-b68d-45bb-dfb6-b4d19ee0112b"
      },
      "source": [
        "number=input(\"Enter any number :\")\n",
        "i=0\n",
        "for i in range(len(number)):\n",
        "    if number[i]!=number[-1-i]:\n",
        "        print('It is not a palindrome')\n",
        "        break\n",
        "    else:\n",
        "        print('It is a palindrome')\n",
        "        break"
      ],
      "execution_count": null,
      "outputs": [
        {
          "output_type": "stream",
          "text": [
            "Enter any number :33\n",
            "It is a palindrome\n"
          ],
          "name": "stdout"
        }
      ]
    },
    {
      "cell_type": "code",
      "metadata": {
        "colab": {
          "base_uri": "https://localhost:8080/"
        },
        "id": "iU_2QA7c0dSr",
        "outputId": "61ed67ee-6be6-46ab-cbb6-403993cf3293"
      },
      "source": [
        "number=input(\"Enter any name :\")\n",
        "i=0\n",
        "for i in range(len(name)):\n",
        "    if name[i]!=name[-1-i]:\n",
        "        print('It is a palindrome')\n",
        "        break\n",
        "    else:\n",
        "        print('It is not a palindrome')\n",
        "        break"
      ],
      "execution_count": null,
      "outputs": [
        {
          "output_type": "stream",
          "text": [
            "Enter any name :nitin\n",
            "It is a palindrome\n"
          ],
          "name": "stdout"
        }
      ]
    },
    {
      "cell_type": "code",
      "metadata": {
        "colab": {
          "base_uri": "https://localhost:8080/"
        },
        "id": "zzwS25Tq0kyh",
        "outputId": "3cc9d052-7d90-4803-e32f-a2049eec749f"
      },
      "source": [
        "\n",
        "x = input(\"Enter any name :\")\n",
        "y = x[::-1]\n",
        "\n",
        "if (x == y):\n",
        " print ('Palindrome')\n",
        "else:\n",
        " print ('Not a palindrome') \n"
      ],
      "execution_count": null,
      "outputs": [
        {
          "output_type": "stream",
          "text": [
            "Enter any name :dpak\n",
            "Not\n"
          ],
          "name": "stdout"
        }
      ]
    },
    {
      "cell_type": "code",
      "metadata": {
        "colab": {
          "base_uri": "https://localhost:8080/"
        },
        "id": "Exo8hG0C2tBy",
        "outputId": "d37b26c0-8704-4211-b3d3-9785103f4ef9"
      },
      "source": [
        "i = 1\n",
        "print('[')\n",
        "while (i<10):\n",
        "     i = i+1\n",
        "    print(i,',', end=' ')\n",
        "    \n",
        "print(i,']') "
      ],
      "execution_count": null,
      "outputs": [
        {
          "output_type": "stream",
          "text": [
            "[\n",
            "1 , 2 , 3 , 4 , 5 , 6 , 7 , 8 , 9 , 10 ]\n"
          ],
          "name": "stdout"
        }
      ]
    },
    {
      "cell_type": "code",
      "metadata": {
        "colab": {
          "base_uri": "https://localhost:8080/"
        },
        "id": "_pi_8IfU3koa",
        "outputId": "b5427797-dbf9-4f9d-d3f6-c46caf374584"
      },
      "source": [
        "i = 1\n",
        "while (i<10):\n",
        "  print(i,',',end=' ')\n",
        "  i=i+1"
      ],
      "execution_count": null,
      "outputs": [
        {
          "output_type": "stream",
          "text": [
            "1 , 2 , 3 , 4 , 5 , 6 , 7 , 8 , 9 , "
          ],
          "name": "stdout"
        }
      ]
    },
    {
      "cell_type": "code",
      "metadata": {
        "colab": {
          "base_uri": "https://localhost:8080/"
        },
        "id": "G98tfAl-6Z8X",
        "outputId": "40f58561-5c12-4e7a-d7b1-94d7d51c83f3"
      },
      "source": [
        "i = 1\n",
        "print('[',end='')\n",
        "while (i<=10): \n",
        "    if(i == 10):\n",
        "        print(i,end='')   \n",
        "    else:\n",
        "        print(i, end=',')\n",
        "    i = i+1\n",
        "print(']') "
      ],
      "execution_count": null,
      "outputs": [
        {
          "output_type": "stream",
          "text": [
            "[1,2,3,4,5,6,7,8,9,10]\n"
          ],
          "name": "stdout"
        }
      ]
    },
    {
      "cell_type": "code",
      "metadata": {
        "id": "FlqrptEbAh4t",
        "colab": {
          "base_uri": "https://localhost:8080/"
        },
        "outputId": "d11997f8-d29a-4e41-838d-67d9e46177d3"
      },
      "source": [
        "4%3"
      ],
      "execution_count": null,
      "outputs": [
        {
          "output_type": "execute_result",
          "data": {
            "text/plain": [
              "1"
            ]
          },
          "metadata": {
            "tags": []
          },
          "execution_count": 1
        }
      ]
    },
    {
      "cell_type": "code",
      "metadata": {
        "id": "1DD3R0aKdB_r",
        "colab": {
          "base_uri": "https://localhost:8080/"
        },
        "outputId": "7c65b7cb-bd4f-40d8-8a5b-73d2ac6f9452"
      },
      "source": [
        "x=15\n",
        "x^=20\n",
        "x"
      ],
      "execution_count": null,
      "outputs": [
        {
          "output_type": "execute_result",
          "data": {
            "text/plain": [
              "27"
            ]
          },
          "metadata": {
            "tags": []
          },
          "execution_count": 1
        }
      ]
    },
    {
      "cell_type": "code",
      "metadata": {
        "id": "lLr0ph27mJxJ",
        "colab": {
          "base_uri": "https://localhost:8080/",
          "height": 135
        },
        "outputId": "378fc8d1-e359-452f-c49f-e0cc694bfd40"
      },
      "source": [
        "x = int(input(\"Enter your Age: \"))\n",
        "y = input(\"Enter your Gender: \")\n",
        "if x>=18:\n",
        "  if y==y.upper() == 'MALE' or y.upper() == 'BOY')):\n",
        "    print(\"You are above 18 and %s\" %y)\n",
        "  elif (y.upper() == 'MALE' or y.upper() == 'BOY')):\n",
        "    print(\"You are above 18 and %s\" %y)\n",
        "  \n",
        "else:\n",
        "    print(\"You are not\")"
      ],
      "execution_count": null,
      "outputs": [
        {
          "output_type": "error",
          "ename": "SyntaxError",
          "evalue": "ignored",
          "traceback": [
            "\u001b[0;36m  File \u001b[0;32m\"<ipython-input-7-910c5a4a0e57>\"\u001b[0;36m, line \u001b[0;32m4\u001b[0m\n\u001b[0;31m    if y==y.upper() == 'MALE' or y.upper() == 'BOY')):\u001b[0m\n\u001b[0m                                                   ^\u001b[0m\n\u001b[0;31mSyntaxError\u001b[0m\u001b[0;31m:\u001b[0m invalid syntax\n"
          ]
        }
      ]
    },
    {
      "cell_type": "code",
      "metadata": {
        "colab": {
          "base_uri": "https://localhost:8080/"
        },
        "id": "nleBur27mQg3",
        "outputId": "f33046b9-5f71-432e-aa81-e17dca3d00ff"
      },
      "source": [
        "X = int (input(\"Print Your Number:\"))\n",
        "Y = int (input(\"Print Your Number:\"))\n",
        "Z = int (input(\"Print Your Number:\"))\n",
        "\n",
        "if (X > Y and X > Z) or (Y > X and Y > Z) or (Z > X and Z > Y):\n",
        "    print(\"Largest number is %s\" %X)\n",
        "    print(\"Largest number is %s\" %Y)\n",
        "    print(\"Largest number is %s\" %Z)"
      ],
      "execution_count": null,
      "outputs": [
        {
          "output_type": "stream",
          "text": [
            "Print Your Number:10\n",
            "Print Your Number:30\n",
            "Print Your Number:5\n",
            "Largest number is 10\n",
            "Largest number is 30\n",
            "Largest number is 5\n"
          ],
          "name": "stdout"
        }
      ]
    },
    {
      "cell_type": "code",
      "metadata": {
        "colab": {
          "base_uri": "https://localhost:8080/"
        },
        "id": "40WcvMGsxA8X",
        "outputId": "0542758c-6712-4722-ccf5-031c736a40ac"
      },
      "source": [
        "#Program _ Name & age of the User as inputs & display \n",
        "name=input(\"enter the name:\")\n",
        "age=int(input(\"enter the age:\"))\n",
        "if (age>=18):\n",
        " print(\"eligible for license:\")\n",
        "else:\n",
        " print(name,\"not eligible for license\")"
      ],
      "execution_count": null,
      "outputs": [
        {
          "output_type": "stream",
          "text": [
            "enter the name:dpak\n",
            "enter the age:19\n",
            "eligible for license:\n"
          ],
          "name": "stdout"
        }
      ]
    },
    {
      "cell_type": "code",
      "metadata": {
        "id": "YFC89jxjOBTv",
        "colab": {
          "base_uri": "https://localhost:8080/"
        },
        "outputId": "c1c105e4-d511-45df-8ae6-ebfd4c3e4172"
      },
      "source": [
        "a='dpaknh'\n",
        "a=set(a)\n",
        "a"
      ],
      "execution_count": null,
      "outputs": [
        {
          "output_type": "execute_result",
          "data": {
            "text/plain": [
              "{'a', 'd', 'h', 'k', 'n', 'p'}"
            ]
          },
          "metadata": {
            "tags": []
          },
          "execution_count": 17
        }
      ]
    },
    {
      "cell_type": "code",
      "metadata": {
        "colab": {
          "base_uri": "https://localhost:8080/"
        },
        "id": "CQDvrLXnIfWF",
        "outputId": "a2cbda41-a3fb-482f-ebdd-8aba6f5ebd7f"
      },
      "source": [
        "b= 'dhoni'\n",
        "b=set(b)\n",
        "b"
      ],
      "execution_count": null,
      "outputs": [
        {
          "output_type": "execute_result",
          "data": {
            "text/plain": [
              "{'d', 'h', 'i', 'n', 'o'}"
            ]
          },
          "metadata": {
            "tags": []
          },
          "execution_count": 16
        }
      ]
    },
    {
      "cell_type": "code",
      "metadata": {
        "colab": {
          "base_uri": "https://localhost:8080/"
        },
        "id": "2UmmFT-RI1fA",
        "outputId": "378aef41-583b-4cab-8a0e-b33d7f7d6e47"
      },
      "source": [
        "a.union(b)"
      ],
      "execution_count": null,
      "outputs": [
        {
          "output_type": "execute_result",
          "data": {
            "text/plain": [
              "{'a', 'd', 'h', 'i', 'k', 'n', 'o', 'p'}"
            ]
          },
          "metadata": {
            "tags": []
          },
          "execution_count": 15
        }
      ]
    },
    {
      "cell_type": "code",
      "metadata": {
        "id": "BA4_fKuXJm1o"
      },
      "source": [
        ""
      ],
      "execution_count": null,
      "outputs": []
    },
    {
      "cell_type": "code",
      "metadata": {
        "colab": {
          "base_uri": "https://localhost:8080/"
        },
        "id": "AFL0XBfzI5DD",
        "outputId": "1bff21b1-06c0-4c73-891d-90dcaf116529"
      },
      "source": [
        "a.intersection(b)"
      ],
      "execution_count": null,
      "outputs": [
        {
          "output_type": "execute_result",
          "data": {
            "text/plain": [
              "{'d', 'h', 'n'}"
            ]
          },
          "metadata": {
            "tags": []
          },
          "execution_count": 13
        }
      ]
    },
    {
      "cell_type": "code",
      "metadata": {
        "colab": {
          "base_uri": "https://localhost:8080/"
        },
        "id": "QH6iNGhZK6Qm",
        "outputId": "494b1705-d3ed-44f0-ba21-2d6f873d2db3"
      },
      "source": [
        "a-b"
      ],
      "execution_count": null,
      "outputs": [
        {
          "output_type": "execute_result",
          "data": {
            "text/plain": [
              "{'a', 'k', 'p'}"
            ]
          },
          "metadata": {
            "tags": []
          },
          "execution_count": 19
        }
      ]
    },
    {
      "cell_type": "code",
      "metadata": {
        "colab": {
          "base_uri": "https://localhost:8080/"
        },
        "id": "l4UuWCfIJSZd",
        "outputId": "83c27178-b9f3-43d4-ea29-4c77dc76f2ff"
      },
      "source": [
        "a and b"
      ],
      "execution_count": null,
      "outputs": [
        {
          "output_type": "execute_result",
          "data": {
            "text/plain": [
              "{'d', 'h', 'i', 'n', 'o'}"
            ]
          },
          "metadata": {
            "tags": []
          },
          "execution_count": 18
        }
      ]
    },
    {
      "cell_type": "code",
      "metadata": {
        "colab": {
          "base_uri": "https://localhost:8080/"
        },
        "id": "0bSS_zJxJpF9",
        "outputId": "54159667-b254-42a1-895d-741c0c379510"
      },
      "source": [
        "p={1,2,3,4,5}\n",
        "sum(p)\n",
        "p"
      ],
      "execution_count": null,
      "outputs": [
        {
          "output_type": "execute_result",
          "data": {
            "text/plain": [
              "{1, 2, 3, 4, 5}"
            ]
          },
          "metadata": {
            "tags": []
          },
          "execution_count": 23
        }
      ]
    },
    {
      "cell_type": "code",
      "metadata": {
        "colab": {
          "base_uri": "https://localhost:8080/"
        },
        "id": "MFMEp1ZCMaj0",
        "outputId": "ef5048c8-a779-47bc-a87a-8533653b7e7a"
      },
      "source": [
        "p={1,2,3,4,5}\n",
        "c= {3,5,6,7,8,9}\n",
        "d=p.union(c)\n",
        "d"
      ],
      "execution_count": null,
      "outputs": [
        {
          "output_type": "execute_result",
          "data": {
            "text/plain": [
              "{1, 2, 3, 4, 5, 6, 7, 8, 9}"
            ]
          },
          "metadata": {
            "tags": []
          },
          "execution_count": 30
        }
      ]
    },
    {
      "cell_type": "code",
      "metadata": {
        "colab": {
          "base_uri": "https://localhost:8080/"
        },
        "id": "X_5jNOC0PmgH",
        "outputId": "c9c0f888-9cb9-4cfa-ce13-fdaf851452ca"
      },
      "source": [
        "d.issuperset(p)"
      ],
      "execution_count": null,
      "outputs": [
        {
          "output_type": "execute_result",
          "data": {
            "text/plain": [
              "True"
            ]
          },
          "metadata": {
            "tags": []
          },
          "execution_count": 33
        }
      ]
    },
    {
      "cell_type": "code",
      "metadata": {
        "colab": {
          "base_uri": "https://localhost:8080/"
        },
        "id": "nwDwVi4WP-E5",
        "outputId": "b4658bb3-aae9-47b6-a225-8fdf1e4df6b3"
      },
      "source": [
        "\n",
        "#Q1. count words and characters in below string\n",
        "# mainString = 'Data Science 2020 batch'\n",
        "# HINT : Use split or,  Use for loop + count\n",
        "str=\"Data Science 2020 batch\"\n",
        "count=0\n",
        "\n",
        "for i in str:\n",
        "  count+=1\n",
        "count\n"
      ],
      "execution_count": null,
      "outputs": [
        {
          "output_type": "execute_result",
          "data": {
            "text/plain": [
              "23"
            ]
          },
          "metadata": {
            "tags": []
          },
          "execution_count": 36
        }
      ]
    },
    {
      "cell_type": "code",
      "metadata": {
        "colab": {
          "base_uri": "https://localhost:8080/"
        },
        "id": "5l0SQT-2VGH8",
        "outputId": "3c85a6cc-198b-4e94-aa1c-72f1c4c7617e"
      },
      "source": [
        "mainString = 'Data Science 2020 batch'\n",
        "count=0\n",
        "for i in mainString:\n",
        "  count+=1\n",
        "count"
      ],
      "execution_count": null,
      "outputs": [
        {
          "output_type": "execute_result",
          "data": {
            "text/plain": [
              "23"
            ]
          },
          "metadata": {
            "tags": []
          },
          "execution_count": 45
        }
      ]
    },
    {
      "cell_type": "code",
      "metadata": {
        "colab": {
          "base_uri": "https://localhost:8080/"
        },
        "id": "vS6S1fPpVNIS",
        "outputId": "d347d7a4-0283-4b2a-a75c-62319aab87bf"
      },
      "source": [
        "main_string=\"data science 2020 batch\"\n",
        "rs=len(main_string.split())\n",
        "print(\"number of words: \", rs)"
      ],
      "execution_count": null,
      "outputs": [
        {
          "output_type": "stream",
          "text": [
            "number of words:  4\n"
          ],
          "name": "stdout"
        }
      ]
    },
    {
      "cell_type": "code",
      "metadata": {
        "colab": {
          "base_uri": "https://localhost:8080/",
          "height": 54
        },
        "id": "88wViFuvV8k6",
        "outputId": "8c4c2a78-1fc1-4192-ccc4-aa41c1b365fd"
      },
      "source": [
        "#Q2. Extract mobile number :\n",
        "# mainString = 'My number is 8888888888'\n",
        "# HINT : Use string testing methods + looping\n",
        "\n",
        "str= 'My number is 8888888888'\n",
        "rs= str.split()\n",
        "print('number of word:',rs)\n",
        "rs[-1]"
      ],
      "execution_count": null,
      "outputs": [
        {
          "output_type": "stream",
          "text": [
            "number of word: ['My', 'number', 'is', '8888888888']\n"
          ],
          "name": "stdout"
        },
        {
          "output_type": "execute_result",
          "data": {
            "application/vnd.google.colaboratory.intrinsic+json": {
              "type": "string"
            },
            "text/plain": [
              "'8888888888'"
            ]
          },
          "metadata": {
            "tags": []
          },
          "execution_count": 57
        }
      ]
    },
    {
      "cell_type": "code",
      "metadata": {
        "colab": {
          "base_uri": "https://localhost:8080/",
          "height": 135
        },
        "id": "KPpVOGD2YH1e",
        "outputId": "b416474b-52bf-4c26-870a-56bef53084ed"
      },
      "source": [
        "str= 'My number is 8888888888'\n",
        "num=''\n",
        "for s in str:\n",
        "  if s.isdigit():\n",
        "  num=num+s\n",
        "  else:\n",
        "    pass\n",
        "print(num)\n"
      ],
      "execution_count": null,
      "outputs": [
        {
          "output_type": "error",
          "ename": "IndentationError",
          "evalue": "ignored",
          "traceback": [
            "\u001b[0;36m  File \u001b[0;32m\"<ipython-input-63-4847350897d0>\"\u001b[0;36m, line \u001b[0;32m5\u001b[0m\n\u001b[0;31m    num=num+s\u001b[0m\n\u001b[0m      ^\u001b[0m\n\u001b[0;31mIndentationError\u001b[0m\u001b[0;31m:\u001b[0m expected an indented block\n"
          ]
        }
      ]
    },
    {
      "cell_type": "code",
      "metadata": {
        "colab": {
          "base_uri": "https://localhost:8080/",
          "height": 35
        },
        "id": "hYy3-yiqaHqS",
        "outputId": "9710299e-23b2-42f4-b4bc-c50c34a521e9"
      },
      "source": [
        "#Q3. Extract email addresss :\n",
        "# mainString = 'My email is  abc@g.com'\n",
        "# HINT : Use string split and membership \"in\" operator\n",
        "\n",
        "email= 'My email is  abc@g.com'\n",
        "sp= email.split()\n",
        "sp[-1]"
      ],
      "execution_count": null,
      "outputs": [
        {
          "output_type": "execute_result",
          "data": {
            "application/vnd.google.colaboratory.intrinsic+json": {
              "type": "string"
            },
            "text/plain": [
              "'abc@g.com'"
            ]
          },
          "metadata": {
            "tags": []
          },
          "execution_count": 65
        }
      ]
    },
    {
      "cell_type": "code",
      "metadata": {
        "colab": {
          "base_uri": "https://localhost:8080/",
          "height": 135
        },
        "id": "y1AS8qXFbRC_",
        "outputId": "a0d82573-a4f4-4766-c4b2-0881b2eb69cb"
      },
      "source": [
        "email= 'My email is  abc@g.com'\n",
        "sp= email.split()\n",
        "for i in email:\n",
        "  if @ in i:\n",
        "    email=i\n",
        "  else:\n",
        "    pass\n",
        "print(email)"
      ],
      "execution_count": null,
      "outputs": [
        {
          "output_type": "error",
          "ename": "SyntaxError",
          "evalue": "ignored",
          "traceback": [
            "\u001b[0;36m  File \u001b[0;32m\"<ipython-input-67-2247c1db2cea>\"\u001b[0;36m, line \u001b[0;32m4\u001b[0m\n\u001b[0;31m    if @ in i:\u001b[0m\n\u001b[0m       ^\u001b[0m\n\u001b[0;31mSyntaxError\u001b[0m\u001b[0;31m:\u001b[0m invalid syntax\n"
          ]
        }
      ]
    },
    {
      "cell_type": "code",
      "metadata": {
        "colab": {
          "base_uri": "https://localhost:8080/"
        },
        "id": "6Kz8qlulb_2y",
        "outputId": "085bbd75-9fa4-4c52-865b-ccd4fabad07a"
      },
      "source": [
        "\n",
        "# Q4. fibanocci series for 10 numbers\n",
        "# example : result = 0, 1, 1, 2, 3, 5, 8, 13, 21, 34\n",
        "A=5\n",
        "n1, n2 = 0, 1\n",
        "count = 0\n",
        "\n",
        "if A <=1:\n",
        "  print(\"Fibonacci sequence upto\",A,\":\")\n",
        "  print(n1)\n",
        "else:\n",
        "  # print(\"Fibonacci sequence:\")\n",
        "   while count < A:\n",
        "       print(n1)\n",
        "       nth = n1 + n2\n",
        "       # update values\n",
        "       n1 = n2\n",
        "       n2 = nth\n",
        "       count += 1"
      ],
      "execution_count": null,
      "outputs": [
        {
          "output_type": "stream",
          "text": [
            "0\n",
            "1\n",
            "1\n",
            "2\n",
            "3\n"
          ],
          "name": "stdout"
        }
      ]
    },
    {
      "cell_type": "code",
      "metadata": {
        "id": "Db_PhrckdYjo"
      },
      "source": [
        "A=10\n",
        "n1, n2 = 0, 1\n",
        "count = 0\n",
        "if A <=1:\n",
        "    print(n1)\n",
        "else:\n",
        "   while count < A:\n",
        "       print(n1)\n",
        "       nth = n1 + n2\n",
        "       n1 = n2\n",
        "       n2 = nth\n",
        "       count += 1\n"
      ],
      "execution_count": null,
      "outputs": []
    },
    {
      "cell_type": "code",
      "metadata": {
        "id": "o7Unb5HagdkY"
      },
      "source": [
        "import numpy as np"
      ],
      "execution_count": null,
      "outputs": []
    },
    {
      "cell_type": "code",
      "metadata": {
        "colab": {
          "base_uri": "https://localhost:8080/"
        },
        "id": "HlOdnQib-EuO",
        "outputId": "b2e106b4-2169-4f3c-f028-bf0f9a38b3bf"
      },
      "source": [
        "v= np.linspace(1,5,10)\n",
        "v"
      ],
      "execution_count": null,
      "outputs": [
        {
          "output_type": "execute_result",
          "data": {
            "text/plain": [
              "array([1.        , 1.44444444, 1.88888889, 2.33333333, 2.77777778,\n",
              "       3.22222222, 3.66666667, 4.11111111, 4.55555556, 5.        ])"
            ]
          },
          "metadata": {
            "tags": []
          },
          "execution_count": 2
        }
      ]
    },
    {
      "cell_type": "code",
      "metadata": {
        "id": "0ZvM6liX-Tci"
      },
      "source": [
        "v_rshp= v.reshape(10,1)"
      ],
      "execution_count": null,
      "outputs": []
    },
    {
      "cell_type": "code",
      "metadata": {
        "colab": {
          "base_uri": "https://localhost:8080/"
        },
        "id": "TDibSWEB-uO4",
        "outputId": "4cd99b59-fd7b-4960-f2e1-cca92d275895"
      },
      "source": [
        "v_rshp"
      ],
      "execution_count": null,
      "outputs": [
        {
          "output_type": "execute_result",
          "data": {
            "text/plain": [
              "array([[1.        ],\n",
              "       [1.44444444],\n",
              "       [1.88888889],\n",
              "       [2.33333333],\n",
              "       [2.77777778],\n",
              "       [3.22222222],\n",
              "       [3.66666667],\n",
              "       [4.11111111],\n",
              "       [4.55555556],\n",
              "       [5.        ]])"
            ]
          },
          "metadata": {
            "tags": []
          },
          "execution_count": 8
        }
      ]
    },
    {
      "cell_type": "code",
      "metadata": {
        "colab": {
          "base_uri": "https://localhost:8080/"
        },
        "id": "R3cT8FbJ-1mu",
        "outputId": "9dc2b0e8-0f94-418d-8b20-c515c9dbdf8e"
      },
      "source": [
        "v.shape"
      ],
      "execution_count": null,
      "outputs": [
        {
          "output_type": "execute_result",
          "data": {
            "text/plain": [
              "(10,)"
            ]
          },
          "metadata": {
            "tags": []
          },
          "execution_count": 6
        }
      ]
    },
    {
      "cell_type": "code",
      "metadata": {
        "id": "VZ-TnJhb-_by"
      },
      "source": [
        "v= np.random.randint(1,10,size=(5,4))"
      ],
      "execution_count": null,
      "outputs": []
    },
    {
      "cell_type": "code",
      "metadata": {
        "colab": {
          "base_uri": "https://localhost:8080/"
        },
        "id": "96MTOr3FBU7O",
        "outputId": "91cd4316-fa3a-43a0-db37-72af500bd223"
      },
      "source": [
        "v\n"
      ],
      "execution_count": null,
      "outputs": [
        {
          "output_type": "execute_result",
          "data": {
            "text/plain": [
              "array([[8, 4, 7, 3],\n",
              "       [2, 5, 7, 6],\n",
              "       [1, 9, 7, 6],\n",
              "       [2, 5, 3, 4],\n",
              "       [2, 3, 5, 1]])"
            ]
          },
          "metadata": {
            "tags": []
          },
          "execution_count": 21
        }
      ]
    },
    {
      "cell_type": "code",
      "metadata": {
        "colab": {
          "base_uri": "https://localhost:8080/"
        },
        "id": "ec2ncbRZBVnA",
        "outputId": "d1f8037e-3ee9-4302-8da2-6ccd259de57e"
      },
      "source": [
        "v[3]"
      ],
      "execution_count": null,
      "outputs": [
        {
          "output_type": "execute_result",
          "data": {
            "text/plain": [
              "array([2, 5, 3, 4])"
            ]
          },
          "metadata": {
            "tags": []
          },
          "execution_count": 25
        }
      ]
    },
    {
      "cell_type": "code",
      "metadata": {
        "colab": {
          "base_uri": "https://localhost:8080/"
        },
        "id": "UIZ4mHFpFDOa",
        "outputId": "20a5b7c0-4c5e-4825-f998-7d7824414c78"
      },
      "source": [
        "v.shape"
      ],
      "execution_count": null,
      "outputs": [
        {
          "output_type": "execute_result",
          "data": {
            "text/plain": [
              "(5, 4)"
            ]
          },
          "metadata": {
            "tags": []
          },
          "execution_count": 26
        }
      ]
    },
    {
      "cell_type": "code",
      "metadata": {
        "id": "eHuQgCWnFfBw"
      },
      "source": [
        "n= v.reshape(20,1)"
      ],
      "execution_count": null,
      "outputs": []
    },
    {
      "cell_type": "code",
      "metadata": {
        "colab": {
          "base_uri": "https://localhost:8080/"
        },
        "id": "Q3vpfIsPFzB_",
        "outputId": "a972d976-e121-4335-c2de-49f49ae0f7f0"
      },
      "source": [
        "n"
      ],
      "execution_count": null,
      "outputs": [
        {
          "output_type": "execute_result",
          "data": {
            "text/plain": [
              "array([[8],\n",
              "       [4],\n",
              "       [7],\n",
              "       [3],\n",
              "       [2],\n",
              "       [5],\n",
              "       [7],\n",
              "       [6],\n",
              "       [1],\n",
              "       [9],\n",
              "       [7],\n",
              "       [6],\n",
              "       [2],\n",
              "       [5],\n",
              "       [3],\n",
              "       [4],\n",
              "       [2],\n",
              "       [3],\n",
              "       [5],\n",
              "       [1]])"
            ]
          },
          "metadata": {
            "tags": []
          },
          "execution_count": 36
        }
      ]
    },
    {
      "cell_type": "code",
      "metadata": {
        "colab": {
          "base_uri": "https://localhost:8080/"
        },
        "id": "D9rrjZrCGE1i",
        "outputId": "fe1a12ed-39f7-42a0-c91a-2c0ca81dd864"
      },
      "source": [
        "v"
      ],
      "execution_count": null,
      "outputs": [
        {
          "output_type": "execute_result",
          "data": {
            "text/plain": [
              "array([[8, 4, 7, 3],\n",
              "       [2, 5, 7, 6],\n",
              "       [1, 9, 7, 6],\n",
              "       [2, 5, 3, 4],\n",
              "       [2, 3, 5, 1]])"
            ]
          },
          "metadata": {
            "tags": []
          },
          "execution_count": 37
        }
      ]
    },
    {
      "cell_type": "code",
      "metadata": {
        "colab": {
          "base_uri": "https://localhost:8080/"
        },
        "id": "xoEzAghwGf5_",
        "outputId": "686923df-1f44-4c8a-8df8-20d74fda1197"
      },
      "source": [
        "v[0:,0].reshape(-1,1)"
      ],
      "execution_count": null,
      "outputs": [
        {
          "output_type": "execute_result",
          "data": {
            "text/plain": [
              "array([[8],\n",
              "       [2],\n",
              "       [1],\n",
              "       [2],\n",
              "       [2]])"
            ]
          },
          "metadata": {
            "tags": []
          },
          "execution_count": 43
        }
      ]
    },
    {
      "cell_type": "code",
      "metadata": {
        "id": "mf5LdiDuGrEn"
      },
      "source": [
        "import pandas as pd\n",
        "import numpy as np"
      ],
      "execution_count": null,
      "outputs": []
    },
    {
      "cell_type": "code",
      "metadata": {
        "colab": {
          "base_uri": "https://localhost:8080/"
        },
        "id": "7ZGpOP8gNLeb",
        "outputId": "3855865c-1f77-4921-e8d7-a1a2c5f4b5b8"
      },
      "source": [
        "a= [5,2,7,4,1]\n",
        "a"
      ],
      "execution_count": null,
      "outputs": [
        {
          "output_type": "execute_result",
          "data": {
            "text/plain": [
              "[5, 2, 7, 4, 1]"
            ]
          },
          "metadata": {
            "tags": []
          },
          "execution_count": 50
        }
      ]
    },
    {
      "cell_type": "markdown",
      "metadata": {
        "id": "2bZoiEy3Pte5"
      },
      "source": [
        ""
      ]
    },
    {
      "cell_type": "code",
      "metadata": {
        "colab": {
          "base_uri": "https://localhost:8080/"
        },
        "id": "f9q1emiBNrb0",
        "outputId": "9f2f56f7-ac6f-4da5-e4bf-027e190f69b5"
      },
      "source": [
        "type (a)"
      ],
      "execution_count": null,
      "outputs": [
        {
          "output_type": "execute_result",
          "data": {
            "text/plain": [
              "list"
            ]
          },
          "metadata": {
            "tags": []
          },
          "execution_count": 64
        }
      ]
    },
    {
      "cell_type": "code",
      "metadata": {
        "id": "Bf_VM9C2PxmZ"
      },
      "source": [
        "row_label= ['Zeorth_row','first_row','second_row','third_row','forth_row']"
      ],
      "execution_count": null,
      "outputs": []
    },
    {
      "cell_type": "code",
      "metadata": {
        "colab": {
          "base_uri": "https://localhost:8080/"
        },
        "id": "n2UdY88dNspp",
        "outputId": "1c090fb9-338d-442c-a181-41786dc82e1c"
      },
      "source": [
        "v= pd.Series(data=a,index= row_label)\n",
        "v"
      ],
      "execution_count": null,
      "outputs": [
        {
          "output_type": "execute_result",
          "data": {
            "text/plain": [
              "Zeorth_row    5\n",
              "first_row     2\n",
              "second_row    7\n",
              "third_row     4\n",
              "forth_row     1\n",
              "dtype: int64"
            ]
          },
          "metadata": {
            "tags": []
          },
          "execution_count": 66
        }
      ]
    },
    {
      "cell_type": "code",
      "metadata": {
        "colab": {
          "base_uri": "https://localhost:8080/"
        },
        "id": "9JxtRTZwOFM3",
        "outputId": "4f48becb-1d59-41a6-e8c4-4dc80bb67d31"
      },
      "source": [
        "b= [8,12,17,14,21]\n",
        "v1= pd.Series(data=b,index= row_label)\n",
        "v1"
      ],
      "execution_count": null,
      "outputs": [
        {
          "output_type": "execute_result",
          "data": {
            "text/plain": [
              "Zeorth_row     8\n",
              "first_row     12\n",
              "second_row    17\n",
              "third_row     14\n",
              "forth_row     21\n",
              "dtype: int64"
            ]
          },
          "metadata": {
            "tags": []
          },
          "execution_count": 67
        }
      ]
    },
    {
      "cell_type": "code",
      "metadata": {
        "colab": {
          "base_uri": "https://localhost:8080/"
        },
        "id": "aNi3hBwcOWsP",
        "outputId": "fd78bac3-f458-4156-ef07-a138eb715609"
      },
      "source": [
        "c= v+v1\n",
        "c"
      ],
      "execution_count": null,
      "outputs": [
        {
          "output_type": "execute_result",
          "data": {
            "text/plain": [
              "0    13\n",
              "1    14\n",
              "2    24\n",
              "3    18\n",
              "4    22\n",
              "dtype: int64"
            ]
          },
          "metadata": {
            "tags": []
          },
          "execution_count": 60
        }
      ]
    },
    {
      "cell_type": "code",
      "metadata": {
        "colab": {
          "base_uri": "https://localhost:8080/"
        },
        "id": "zz63dZHzPAdt",
        "outputId": "80ec6fcf-a0e8-4212-bdf8-af29042cef71"
      },
      "source": [
        "type(v)"
      ],
      "execution_count": null,
      "outputs": [
        {
          "output_type": "execute_result",
          "data": {
            "text/plain": [
              "pandas.core.series.Series"
            ]
          },
          "metadata": {
            "tags": []
          },
          "execution_count": 63
        }
      ]
    },
    {
      "cell_type": "code",
      "metadata": {
        "id": "W3go4KlWPKyJ"
      },
      "source": [
        ""
      ],
      "execution_count": null,
      "outputs": []
    }
  ]
}